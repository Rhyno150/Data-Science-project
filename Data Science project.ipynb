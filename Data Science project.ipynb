{
    "cells": [
        {
            "cell_type": "markdown",
            "metadata": {
                "collapsed": true,
                "id": "9e13a666-df71-4437-802c-6c0d3c4e6968",
                "jupyter": {
                    "outputs_hidden": true
                }
            },
            "source": "This program prints Hello, World!"
        },
        {
            "cell_type": "code",
            "execution_count": null,
            "metadata": {
                "id": "a6e0436f-1292-4c58-86fd-84f63a643583"
            },
            "outputs": [],
            "source": ""
        },
        {
            "cell_type": "code",
            "execution_count": 1,
            "metadata": {
                "id": "67f766f9-9474-45fb-867b-290a75ce470e"
            },
            "outputs": [
                {
                    "name": "stdout",
                    "output_type": "stream",
                    "text": "Hello, World!\n"
                }
            ],
            "source": "print('Hello, World!')"
        },
        {
            "cell_type": "code",
            "execution_count": null,
            "metadata": {
                "id": "05d453b7-2b9c-4534-b5c2-2dfd38dc52d0"
            },
            "outputs": [],
            "source": ""
        }
    ],
    "metadata": {
        "kernelspec": {
            "display_name": "Python 3.11",
            "language": "python",
            "name": "python3"
        },
        "language_info": {
            "codemirror_mode": {
                "name": "ipython",
                "version": 3
            },
            "file_extension": ".py",
            "mimetype": "text/x-python",
            "name": "python",
            "nbconvert_exporter": "python",
            "pygments_lexer": "ipython3",
            "version": "3.11.9"
        }
    },
    "nbformat": 4,
    "nbformat_minor": 4
}